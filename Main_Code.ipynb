{
 "cells": [
  {
   "cell_type": "markdown",
   "metadata": {},
   "source": [
    "# **Dairy farm code**\n"
   ]
  },
  {
   "cell_type": "markdown",
   "metadata": {},
   "source": [
    "# Data Understanding"
   ]
  },
  {
   "cell_type": "markdown",
   "metadata": {},
   "source": [
    "#### Imports"
   ]
  },
  {
   "cell_type": "code",
   "execution_count": 2,
   "id": "3f48c27d",
   "metadata": {},
   "outputs": [],
   "source": [
    "import pandas as pd"
   ]
  },
  {
   "cell_type": "code",
   "execution_count": 3,
   "metadata": {},
   "outputs": [
    {
     "data": {
      "application/vnd.microsoft.datawrangler.viewer.v0+json": {
       "columns": [
        {
         "name": "index",
         "rawType": "int64",
         "type": "integer"
        },
        {
         "name": "year",
         "rawType": "float64",
         "type": "float"
        },
        {
         "name": "month",
         "rawType": "float64",
         "type": "float"
        },
        {
         "name": "pH",
         "rawType": "float64",
         "type": "float"
        },
        {
         "name": "electrical_conductivity_dS_m",
         "rawType": "float64",
         "type": "float"
        },
        {
         "name": "ammonium_mg_L",
         "rawType": "float64",
         "type": "float"
        },
        {
         "name": "nitrate_input_mg_L",
         "rawType": "float64",
         "type": "float"
        },
        {
         "name": "fertilizer_kg_ha",
         "rawType": "float64",
         "type": "float"
        },
        {
         "name": "manure_kg_ha",
         "rawType": "float64",
         "type": "float"
        },
        {
         "name": "chloride_mg_L",
         "rawType": "float64",
         "type": "float"
        },
        {
         "name": "crop_type",
         "rawType": "object",
         "type": "string"
        },
        {
         "name": "livestock_density_LU_ha",
         "rawType": "float64",
         "type": "float"
        },
        {
         "name": "urbanization",
         "rawType": "object",
         "type": "string"
        },
        {
         "name": "soil_type",
         "rawType": "object",
         "type": "string"
        },
        {
         "name": "aquifer_type",
         "rawType": "object",
         "type": "string"
        },
        {
         "name": "permeability_m_day",
         "rawType": "float64",
         "type": "float"
        },
        {
         "name": "groundwater_level_cm",
         "rawType": "float64",
         "type": "float"
        },
        {
         "name": "precipitation_mm",
         "rawType": "float64",
         "type": "float"
        },
        {
         "name": "evaporation_mm",
         "rawType": "float64",
         "type": "float"
        },
        {
         "name": "drought_days",
         "rawType": "float64",
         "type": "float"
        },
        {
         "name": "avg_sunlight_hours",
         "rawType": "float64",
         "type": "float"
        },
        {
         "name": "avg_humidity_percent",
         "rawType": "float64",
         "type": "float"
        },
        {
         "name": "avg_temp_C",
         "rawType": "float64",
         "type": "float"
        },
        {
         "name": "nitrate_groundwater_mg_L",
         "rawType": "float64",
         "type": "float"
        }
       ],
       "ref": "02148b5c-5012-4ae5-906a-0e4b43db3975",
       "rows": [
        [
         "0",
         "1979.0",
         "11.0",
         "7.02",
         "8.328",
         "0.23",
         "49.96714153011233",
         "173.85747502101833",
         "134.22623210490596",
         "16.0",
         "Grass",
         "2.183420734118044",
         "Medium",
         "Sand",
         "Unconfined",
         "0.8328543270651734",
         "104.5110773788945",
         "80.0",
         "20.0",
         "16.0",
         "2.5",
         "88.0",
         "7.0",
         "0.1"
        ],
        [
         "1",
         "1980.0",
         "10.0",
         "7.4",
         "5.198",
         "0.14",
         "43.61735698828815",
         "136.4644405440561",
         "209.2889321328691",
         "21.0",
         "Potatoes",
         "2.904138995140574",
         "Low",
         "Clay",
         "Confined",
         "1.0249953262953009",
         "159.22036683125668",
         "70.0",
         "35.0",
         "12.0",
         "4.0",
         "85.0",
         "11.0",
         "0.1"
        ],
        [
         "2",
         "1982.0",
         "5.0",
         "7.4",
         "5.424",
         "1.3",
         "51.47688538100692",
         "182.9690998745741",
         "109.02749726105144",
         "28.0",
         "Grass",
         "1.801469566879467",
         "Medium",
         "Clay",
         "Confined",
         "0.5734597543034841",
         "124.71387451096732",
         "55.0",
         "50.0",
         "8.0",
         "7.0",
         "75.0",
         "13.0",
         "0.1"
        ],
        [
         "3",
         "1984.0",
         "5.0",
         "7.38",
         "5.537",
         "0.15",
         "60.23029856408026",
         "166.74298117220124",
         "192.27952921619857",
         "36.0",
         "Grass",
         "2.8654342954123435",
         "Low",
         "Sand",
         "Unconfined",
         "0.229533807033484",
         "57.743020704354414",
         "55.0",
         "50.0",
         "8.0",
         "7.0",
         "75.0",
         "13.0",
         "0.2"
        ],
        [
         "4",
         "1985.0",
         "7.0",
         "7.38",
         "5.706",
         "0.15",
         "42.65846625276664",
         "119.9972861558982",
         "168.92705893226696",
         "40.5",
         "Grass",
         "2.344822253501744",
         "Low",
         "Sand",
         "Unconfined",
         "0.527653098700874",
         "81.62784257753091",
         "80.0",
         "75.0",
         "5.0",
         "8.0",
         "73.0",
         "18.0",
         "0.3"
        ]
       ],
       "shape": {
        "columns": 23,
        "rows": 5
       }
      },
      "text/html": [
       "<div>\n",
       "<style scoped>\n",
       "    .dataframe tbody tr th:only-of-type {\n",
       "        vertical-align: middle;\n",
       "    }\n",
       "\n",
       "    .dataframe tbody tr th {\n",
       "        vertical-align: top;\n",
       "    }\n",
       "\n",
       "    .dataframe thead th {\n",
       "        text-align: right;\n",
       "    }\n",
       "</style>\n",
       "<table border=\"1\" class=\"dataframe\">\n",
       "  <thead>\n",
       "    <tr style=\"text-align: right;\">\n",
       "      <th></th>\n",
       "      <th>year</th>\n",
       "      <th>month</th>\n",
       "      <th>pH</th>\n",
       "      <th>electrical_conductivity_dS_m</th>\n",
       "      <th>ammonium_mg_L</th>\n",
       "      <th>nitrate_input_mg_L</th>\n",
       "      <th>fertilizer_kg_ha</th>\n",
       "      <th>manure_kg_ha</th>\n",
       "      <th>chloride_mg_L</th>\n",
       "      <th>crop_type</th>\n",
       "      <th>...</th>\n",
       "      <th>aquifer_type</th>\n",
       "      <th>permeability_m_day</th>\n",
       "      <th>groundwater_level_cm</th>\n",
       "      <th>precipitation_mm</th>\n",
       "      <th>evaporation_mm</th>\n",
       "      <th>drought_days</th>\n",
       "      <th>avg_sunlight_hours</th>\n",
       "      <th>avg_humidity_percent</th>\n",
       "      <th>avg_temp_C</th>\n",
       "      <th>nitrate_groundwater_mg_L</th>\n",
       "    </tr>\n",
       "  </thead>\n",
       "  <tbody>\n",
       "    <tr>\n",
       "      <th>0</th>\n",
       "      <td>1979.0</td>\n",
       "      <td>11.0</td>\n",
       "      <td>7.02</td>\n",
       "      <td>8.328</td>\n",
       "      <td>0.23</td>\n",
       "      <td>49.967142</td>\n",
       "      <td>173.857475</td>\n",
       "      <td>134.226232</td>\n",
       "      <td>16.0</td>\n",
       "      <td>Grass</td>\n",
       "      <td>...</td>\n",
       "      <td>Unconfined</td>\n",
       "      <td>0.832854</td>\n",
       "      <td>104.511077</td>\n",
       "      <td>80.0</td>\n",
       "      <td>20.0</td>\n",
       "      <td>16.0</td>\n",
       "      <td>2.5</td>\n",
       "      <td>88.0</td>\n",
       "      <td>7.0</td>\n",
       "      <td>0.1</td>\n",
       "    </tr>\n",
       "    <tr>\n",
       "      <th>1</th>\n",
       "      <td>1980.0</td>\n",
       "      <td>10.0</td>\n",
       "      <td>7.40</td>\n",
       "      <td>5.198</td>\n",
       "      <td>0.14</td>\n",
       "      <td>43.617357</td>\n",
       "      <td>136.464441</td>\n",
       "      <td>209.288932</td>\n",
       "      <td>21.0</td>\n",
       "      <td>Potatoes</td>\n",
       "      <td>...</td>\n",
       "      <td>Confined</td>\n",
       "      <td>1.024995</td>\n",
       "      <td>159.220367</td>\n",
       "      <td>70.0</td>\n",
       "      <td>35.0</td>\n",
       "      <td>12.0</td>\n",
       "      <td>4.0</td>\n",
       "      <td>85.0</td>\n",
       "      <td>11.0</td>\n",
       "      <td>0.1</td>\n",
       "    </tr>\n",
       "    <tr>\n",
       "      <th>2</th>\n",
       "      <td>1982.0</td>\n",
       "      <td>5.0</td>\n",
       "      <td>7.40</td>\n",
       "      <td>5.424</td>\n",
       "      <td>1.30</td>\n",
       "      <td>51.476885</td>\n",
       "      <td>182.969100</td>\n",
       "      <td>109.027497</td>\n",
       "      <td>28.0</td>\n",
       "      <td>Grass</td>\n",
       "      <td>...</td>\n",
       "      <td>Confined</td>\n",
       "      <td>0.573460</td>\n",
       "      <td>124.713875</td>\n",
       "      <td>55.0</td>\n",
       "      <td>50.0</td>\n",
       "      <td>8.0</td>\n",
       "      <td>7.0</td>\n",
       "      <td>75.0</td>\n",
       "      <td>13.0</td>\n",
       "      <td>0.1</td>\n",
       "    </tr>\n",
       "    <tr>\n",
       "      <th>3</th>\n",
       "      <td>1984.0</td>\n",
       "      <td>5.0</td>\n",
       "      <td>7.38</td>\n",
       "      <td>5.537</td>\n",
       "      <td>0.15</td>\n",
       "      <td>60.230299</td>\n",
       "      <td>166.742981</td>\n",
       "      <td>192.279529</td>\n",
       "      <td>36.0</td>\n",
       "      <td>Grass</td>\n",
       "      <td>...</td>\n",
       "      <td>Unconfined</td>\n",
       "      <td>0.229534</td>\n",
       "      <td>57.743021</td>\n",
       "      <td>55.0</td>\n",
       "      <td>50.0</td>\n",
       "      <td>8.0</td>\n",
       "      <td>7.0</td>\n",
       "      <td>75.0</td>\n",
       "      <td>13.0</td>\n",
       "      <td>0.2</td>\n",
       "    </tr>\n",
       "    <tr>\n",
       "      <th>4</th>\n",
       "      <td>1985.0</td>\n",
       "      <td>7.0</td>\n",
       "      <td>7.38</td>\n",
       "      <td>5.706</td>\n",
       "      <td>0.15</td>\n",
       "      <td>42.658466</td>\n",
       "      <td>119.997286</td>\n",
       "      <td>168.927059</td>\n",
       "      <td>40.5</td>\n",
       "      <td>Grass</td>\n",
       "      <td>...</td>\n",
       "      <td>Unconfined</td>\n",
       "      <td>0.527653</td>\n",
       "      <td>81.627843</td>\n",
       "      <td>80.0</td>\n",
       "      <td>75.0</td>\n",
       "      <td>5.0</td>\n",
       "      <td>8.0</td>\n",
       "      <td>73.0</td>\n",
       "      <td>18.0</td>\n",
       "      <td>0.3</td>\n",
       "    </tr>\n",
       "  </tbody>\n",
       "</table>\n",
       "<p>5 rows × 23 columns</p>\n",
       "</div>"
      ],
      "text/plain": [
       "     year  month    pH  electrical_conductivity_dS_m  ammonium_mg_L  \\\n",
       "0  1979.0   11.0  7.02                         8.328           0.23   \n",
       "1  1980.0   10.0  7.40                         5.198           0.14   \n",
       "2  1982.0    5.0  7.40                         5.424           1.30   \n",
       "3  1984.0    5.0  7.38                         5.537           0.15   \n",
       "4  1985.0    7.0  7.38                         5.706           0.15   \n",
       "\n",
       "   nitrate_input_mg_L  fertilizer_kg_ha  manure_kg_ha  chloride_mg_L  \\\n",
       "0           49.967142        173.857475    134.226232           16.0   \n",
       "1           43.617357        136.464441    209.288932           21.0   \n",
       "2           51.476885        182.969100    109.027497           28.0   \n",
       "3           60.230299        166.742981    192.279529           36.0   \n",
       "4           42.658466        119.997286    168.927059           40.5   \n",
       "\n",
       "  crop_type  ...  aquifer_type permeability_m_day groundwater_level_cm  \\\n",
       "0     Grass  ...    Unconfined           0.832854           104.511077   \n",
       "1  Potatoes  ...      Confined           1.024995           159.220367   \n",
       "2     Grass  ...      Confined           0.573460           124.713875   \n",
       "3     Grass  ...    Unconfined           0.229534            57.743021   \n",
       "4     Grass  ...    Unconfined           0.527653            81.627843   \n",
       "\n",
       "  precipitation_mm  evaporation_mm  drought_days  avg_sunlight_hours  \\\n",
       "0             80.0            20.0          16.0                 2.5   \n",
       "1             70.0            35.0          12.0                 4.0   \n",
       "2             55.0            50.0           8.0                 7.0   \n",
       "3             55.0            50.0           8.0                 7.0   \n",
       "4             80.0            75.0           5.0                 8.0   \n",
       "\n",
       "   avg_humidity_percent  avg_temp_C  nitrate_groundwater_mg_L  \n",
       "0                  88.0         7.0                       0.1  \n",
       "1                  85.0        11.0                       0.1  \n",
       "2                  75.0        13.0                       0.1  \n",
       "3                  75.0        13.0                       0.2  \n",
       "4                  73.0        18.0                       0.3  \n",
       "\n",
       "[5 rows x 23 columns]"
      ]
     },
     "execution_count": 3,
     "metadata": {},
     "output_type": "execute_result"
    }
   ],
   "source": [
    "# Import the CSV file into a DataFrame\n",
    "farm_df = pd.read_csv(\"Neat_Imputed_Nitrate_Dataset.csv\")\n",
    "farm_df.head()  # Display the first few rows of the DataFrame"
   ]
  },
  {
   "cell_type": "code",
   "execution_count": 4,
   "metadata": {},
   "outputs": [
    {
     "data": {
      "application/vnd.microsoft.datawrangler.viewer.v0+json": {
       "columns": [
        {
         "name": "index",
         "rawType": "object",
         "type": "string"
        },
        {
         "name": "0",
         "rawType": "int64",
         "type": "integer"
        }
       ],
       "ref": "527d9a8b-e475-41d5-93e4-7ebe6f6f331b",
       "rows": [
        [
         "year",
         "0"
        ],
        [
         "month",
         "0"
        ],
        [
         "pH",
         "0"
        ],
        [
         "electrical_conductivity_dS_m",
         "0"
        ],
        [
         "ammonium_mg_L",
         "0"
        ],
        [
         "nitrate_input_mg_L",
         "0"
        ],
        [
         "fertilizer_kg_ha",
         "0"
        ],
        [
         "manure_kg_ha",
         "0"
        ],
        [
         "chloride_mg_L",
         "0"
        ],
        [
         "crop_type",
         "0"
        ],
        [
         "livestock_density_LU_ha",
         "0"
        ],
        [
         "urbanization",
         "0"
        ],
        [
         "soil_type",
         "0"
        ],
        [
         "aquifer_type",
         "0"
        ],
        [
         "permeability_m_day",
         "0"
        ],
        [
         "groundwater_level_cm",
         "0"
        ],
        [
         "precipitation_mm",
         "0"
        ],
        [
         "evaporation_mm",
         "0"
        ],
        [
         "drought_days",
         "0"
        ],
        [
         "avg_sunlight_hours",
         "0"
        ],
        [
         "avg_humidity_percent",
         "0"
        ],
        [
         "avg_temp_C",
         "0"
        ],
        [
         "nitrate_groundwater_mg_L",
         "0"
        ]
       ],
       "shape": {
        "columns": 1,
        "rows": 23
       }
      },
      "text/plain": [
       "year                            0\n",
       "month                           0\n",
       "pH                              0\n",
       "electrical_conductivity_dS_m    0\n",
       "ammonium_mg_L                   0\n",
       "nitrate_input_mg_L              0\n",
       "fertilizer_kg_ha                0\n",
       "manure_kg_ha                    0\n",
       "chloride_mg_L                   0\n",
       "crop_type                       0\n",
       "livestock_density_LU_ha         0\n",
       "urbanization                    0\n",
       "soil_type                       0\n",
       "aquifer_type                    0\n",
       "permeability_m_day              0\n",
       "groundwater_level_cm            0\n",
       "precipitation_mm                0\n",
       "evaporation_mm                  0\n",
       "drought_days                    0\n",
       "avg_sunlight_hours              0\n",
       "avg_humidity_percent            0\n",
       "avg_temp_C                      0\n",
       "nitrate_groundwater_mg_L        0\n",
       "dtype: int64"
      ]
     },
     "execution_count": 4,
     "metadata": {},
     "output_type": "execute_result"
    }
   ],
   "source": [
    "farm_df.isnull().sum()"
   ]
  },
  {
   "cell_type": "code",
   "execution_count": 5,
   "metadata": {},
   "outputs": [
    {
     "name": "stdout",
     "output_type": "stream",
     "text": [
      "year                               45\n",
      "month                              12\n",
      "pH                                539\n",
      "electrical_conductivity_dS_m     3829\n",
      "ammonium_mg_L                    4748\n",
      "nitrate_input_mg_L              27095\n",
      "fertilizer_kg_ha                27078\n",
      "manure_kg_ha                    27036\n",
      "chloride_mg_L                   12286\n",
      "crop_type                           5\n",
      "livestock_density_LU_ha         27081\n",
      "urbanization                        3\n",
      "soil_type                           4\n",
      "aquifer_type                        2\n",
      "permeability_m_day              26835\n",
      "groundwater_level_cm            26812\n",
      "precipitation_mm                    7\n",
      "evaporation_mm                     10\n",
      "drought_days                        8\n",
      "avg_sunlight_hours                  7\n",
      "avg_humidity_percent               10\n",
      "avg_temp_C                         11\n",
      "nitrate_groundwater_mg_L         3506\n",
      "dtype: int64\n"
     ]
    }
   ],
   "source": [
    "unique_values_per_column = farm_df.nunique()\n",
    "\n",
    "# Print results\n",
    "print(unique_values_per_column)"
   ]
  },
  {
   "cell_type": "code",
   "execution_count": 6,
   "metadata": {},
   "outputs": [
    {
     "name": "stdout",
     "output_type": "stream",
     "text": [
      "                              Missing Values  Total Values  Missing Percentage\n",
      "year                                       0         27101                 0.0\n",
      "month                                      0         27101                 0.0\n",
      "pH                                         0         27101                 0.0\n",
      "electrical_conductivity_dS_m               0         27101                 0.0\n",
      "ammonium_mg_L                              0         27101                 0.0\n",
      "nitrate_input_mg_L                         0         27101                 0.0\n",
      "fertilizer_kg_ha                           0         27101                 0.0\n",
      "manure_kg_ha                               0         27101                 0.0\n",
      "chloride_mg_L                              0         27101                 0.0\n",
      "crop_type                                  0         27101                 0.0\n",
      "livestock_density_LU_ha                    0         27101                 0.0\n",
      "urbanization                               0         27101                 0.0\n",
      "soil_type                                  0         27101                 0.0\n",
      "aquifer_type                               0         27101                 0.0\n",
      "permeability_m_day                         0         27101                 0.0\n",
      "groundwater_level_cm                       0         27101                 0.0\n",
      "precipitation_mm                           0         27101                 0.0\n",
      "evaporation_mm                             0         27101                 0.0\n",
      "drought_days                               0         27101                 0.0\n",
      "avg_sunlight_hours                         0         27101                 0.0\n",
      "avg_humidity_percent                       0         27101                 0.0\n",
      "avg_temp_C                                 0         27101                 0.0\n",
      "nitrate_groundwater_mg_L                   0         27101                 0.0\n"
     ]
    }
   ],
   "source": [
    "# Here we check which rows have data missing in them. This helps decide which to remove\n",
    "missing_counts = farm_df.isna().sum()\n",
    "total_counts = farm_df.shape[0]  # Total number of rows\n",
    "\n",
    "result = pd.DataFrame({\n",
    "    'Missing Values': missing_counts,\n",
    "    'Total Values': total_counts,\n",
    "    'Missing Percentage': (missing_counts / total_counts * 100).round(2)\n",
    "})\n",
    "\n",
    "print(result)\n",
    "\n"
   ]
  },
  {
   "cell_type": "code",
   "execution_count": 7,
   "metadata": {},
   "outputs": [
    {
     "ename": "KeyError",
     "evalue": "'date'",
     "output_type": "error",
     "traceback": [
      "\u001b[1;31m---------------------------------------------------------------------------\u001b[0m",
      "\u001b[1;31mKeyError\u001b[0m                                  Traceback (most recent call last)",
      "File \u001b[1;32mc:\\Users\\markh\\.conda\\envs\\Minor\\Lib\\site-packages\\pandas\\core\\indexes\\base.py:3805\u001b[0m, in \u001b[0;36mIndex.get_loc\u001b[1;34m(self, key)\u001b[0m\n\u001b[0;32m   3804\u001b[0m \u001b[38;5;28;01mtry\u001b[39;00m:\n\u001b[1;32m-> 3805\u001b[0m     \u001b[38;5;28;01mreturn\u001b[39;00m \u001b[38;5;28mself\u001b[39m\u001b[38;5;241m.\u001b[39m_engine\u001b[38;5;241m.\u001b[39mget_loc(casted_key)\n\u001b[0;32m   3806\u001b[0m \u001b[38;5;28;01mexcept\u001b[39;00m \u001b[38;5;167;01mKeyError\u001b[39;00m \u001b[38;5;28;01mas\u001b[39;00m err:\n",
      "File \u001b[1;32mindex.pyx:167\u001b[0m, in \u001b[0;36mpandas._libs.index.IndexEngine.get_loc\u001b[1;34m()\u001b[0m\n",
      "File \u001b[1;32mindex.pyx:196\u001b[0m, in \u001b[0;36mpandas._libs.index.IndexEngine.get_loc\u001b[1;34m()\u001b[0m\n",
      "File \u001b[1;32mpandas\\\\_libs\\\\hashtable_class_helper.pxi:7081\u001b[0m, in \u001b[0;36mpandas._libs.hashtable.PyObjectHashTable.get_item\u001b[1;34m()\u001b[0m\n",
      "File \u001b[1;32mpandas\\\\_libs\\\\hashtable_class_helper.pxi:7089\u001b[0m, in \u001b[0;36mpandas._libs.hashtable.PyObjectHashTable.get_item\u001b[1;34m()\u001b[0m\n",
      "\u001b[1;31mKeyError\u001b[0m: 'date'",
      "\nThe above exception was the direct cause of the following exception:\n",
      "\u001b[1;31mKeyError\u001b[0m                                  Traceback (most recent call last)",
      "Cell \u001b[1;32mIn[7], line 2\u001b[0m\n\u001b[0;32m      1\u001b[0m \u001b[38;5;66;03m# Add time-based features\u001b[39;00m\n\u001b[1;32m----> 2\u001b[0m farm_df[\u001b[38;5;124m'\u001b[39m\u001b[38;5;124mdate\u001b[39m\u001b[38;5;124m'\u001b[39m] \u001b[38;5;241m=\u001b[39m pd\u001b[38;5;241m.\u001b[39mto_datetime(farm_df[\u001b[38;5;124m'\u001b[39m\u001b[38;5;124mdate\u001b[39m\u001b[38;5;124m'\u001b[39m])\n\u001b[0;32m      3\u001b[0m farm_df[\u001b[38;5;124m'\u001b[39m\u001b[38;5;124mmonth\u001b[39m\u001b[38;5;124m'\u001b[39m] \u001b[38;5;241m=\u001b[39m farm_df[\u001b[38;5;124m'\u001b[39m\u001b[38;5;124mdate\u001b[39m\u001b[38;5;124m'\u001b[39m]\u001b[38;5;241m.\u001b[39mdt\u001b[38;5;241m.\u001b[39mmonth\n\u001b[0;32m      4\u001b[0m farm_df[\u001b[38;5;124m'\u001b[39m\u001b[38;5;124myear\u001b[39m\u001b[38;5;124m'\u001b[39m] \u001b[38;5;241m=\u001b[39m farm_df[\u001b[38;5;124m'\u001b[39m\u001b[38;5;124mdate\u001b[39m\u001b[38;5;124m'\u001b[39m]\u001b[38;5;241m.\u001b[39mdt\u001b[38;5;241m.\u001b[39myear\n",
      "File \u001b[1;32mc:\\Users\\markh\\.conda\\envs\\Minor\\Lib\\site-packages\\pandas\\core\\frame.py:4102\u001b[0m, in \u001b[0;36mDataFrame.__getitem__\u001b[1;34m(self, key)\u001b[0m\n\u001b[0;32m   4100\u001b[0m \u001b[38;5;28;01mif\u001b[39;00m \u001b[38;5;28mself\u001b[39m\u001b[38;5;241m.\u001b[39mcolumns\u001b[38;5;241m.\u001b[39mnlevels \u001b[38;5;241m>\u001b[39m \u001b[38;5;241m1\u001b[39m:\n\u001b[0;32m   4101\u001b[0m     \u001b[38;5;28;01mreturn\u001b[39;00m \u001b[38;5;28mself\u001b[39m\u001b[38;5;241m.\u001b[39m_getitem_multilevel(key)\n\u001b[1;32m-> 4102\u001b[0m indexer \u001b[38;5;241m=\u001b[39m \u001b[38;5;28mself\u001b[39m\u001b[38;5;241m.\u001b[39mcolumns\u001b[38;5;241m.\u001b[39mget_loc(key)\n\u001b[0;32m   4103\u001b[0m \u001b[38;5;28;01mif\u001b[39;00m is_integer(indexer):\n\u001b[0;32m   4104\u001b[0m     indexer \u001b[38;5;241m=\u001b[39m [indexer]\n",
      "File \u001b[1;32mc:\\Users\\markh\\.conda\\envs\\Minor\\Lib\\site-packages\\pandas\\core\\indexes\\base.py:3812\u001b[0m, in \u001b[0;36mIndex.get_loc\u001b[1;34m(self, key)\u001b[0m\n\u001b[0;32m   3807\u001b[0m     \u001b[38;5;28;01mif\u001b[39;00m \u001b[38;5;28misinstance\u001b[39m(casted_key, \u001b[38;5;28mslice\u001b[39m) \u001b[38;5;129;01mor\u001b[39;00m (\n\u001b[0;32m   3808\u001b[0m         \u001b[38;5;28misinstance\u001b[39m(casted_key, abc\u001b[38;5;241m.\u001b[39mIterable)\n\u001b[0;32m   3809\u001b[0m         \u001b[38;5;129;01mand\u001b[39;00m \u001b[38;5;28many\u001b[39m(\u001b[38;5;28misinstance\u001b[39m(x, \u001b[38;5;28mslice\u001b[39m) \u001b[38;5;28;01mfor\u001b[39;00m x \u001b[38;5;129;01min\u001b[39;00m casted_key)\n\u001b[0;32m   3810\u001b[0m     ):\n\u001b[0;32m   3811\u001b[0m         \u001b[38;5;28;01mraise\u001b[39;00m InvalidIndexError(key)\n\u001b[1;32m-> 3812\u001b[0m     \u001b[38;5;28;01mraise\u001b[39;00m \u001b[38;5;167;01mKeyError\u001b[39;00m(key) \u001b[38;5;28;01mfrom\u001b[39;00m \u001b[38;5;21;01merr\u001b[39;00m\n\u001b[0;32m   3813\u001b[0m \u001b[38;5;28;01mexcept\u001b[39;00m \u001b[38;5;167;01mTypeError\u001b[39;00m:\n\u001b[0;32m   3814\u001b[0m     \u001b[38;5;66;03m# If we have a listlike key, _check_indexing_error will raise\u001b[39;00m\n\u001b[0;32m   3815\u001b[0m     \u001b[38;5;66;03m#  InvalidIndexError. Otherwise we fall through and re-raise\u001b[39;00m\n\u001b[0;32m   3816\u001b[0m     \u001b[38;5;66;03m#  the TypeError.\u001b[39;00m\n\u001b[0;32m   3817\u001b[0m     \u001b[38;5;28mself\u001b[39m\u001b[38;5;241m.\u001b[39m_check_indexing_error(key)\n",
      "\u001b[1;31mKeyError\u001b[0m: 'date'"
     ]
    }
   ],
   "source": [
    "# Add time-based features\n",
    "farm_df['date'] = pd.to_datetime(farm_df['date'])\n",
    "farm_df['month'] = farm_df['date'].dt.month\n",
    "farm_df['year'] = farm_df['date'].dt.year\n",
    "farm_df['week'] = farm_df['date'].dt.isocalendar().week"
   ]
  },
  {
   "cell_type": "code",
   "execution_count": 9,
   "metadata": {},
   "outputs": [
    {
     "name": "stdout",
     "output_type": "stream",
     "text": [
      "                                         Missing Values  Total Values  \\\n",
      "date                                                                    \n",
      "1979-11-05 date                                       0            12   \n",
      "           pH                                         0            12   \n",
      "           electrical_conductivity_dS_m               0            12   \n",
      "           nitrate_input_mg_L                         0            12   \n",
      "           fertilizer_kg_ha                           0            12   \n",
      "...                                                 ...           ...   \n",
      "2023-09-13 humidity_percent                           0            12   \n",
      "           temperature_celsius                        0            12   \n",
      "           month                                      0            12   \n",
      "           year                                       0            12   \n",
      "           week                                       0            12   \n",
      "\n",
      "                                         Missing Percentage  \n",
      "date                                                         \n",
      "1979-11-05 date                                         0.0  \n",
      "           pH                                           0.0  \n",
      "           electrical_conductivity_dS_m                 0.0  \n",
      "           nitrate_input_mg_L                           0.0  \n",
      "           fertilizer_kg_ha                             0.0  \n",
      "...                                                     ...  \n",
      "2023-09-13 humidity_percent                             0.0  \n",
      "           temperature_celsius                          0.0  \n",
      "           month                                        0.0  \n",
      "           year                                         0.0  \n",
      "           week                                         0.0  \n",
      "\n",
      "[704792 rows x 3 columns]\n"
     ]
    },
    {
     "name": "stderr",
     "output_type": "stream",
     "text": [
      "C:\\Users\\markh\\AppData\\Local\\Temp\\ipykernel_14864\\325849060.py:2: DeprecationWarning: DataFrameGroupBy.apply operated on the grouping columns. This behavior is deprecated, and in a future version of pandas the grouping columns will be excluded from the operation. Either pass `include_groups=False` to exclude the groupings or explicitly select the grouping columns after groupby to silence this warning.\n",
      "  missing_per_year = farm_df.groupby('date',).apply(lambda group: pd.DataFrame({\n"
     ]
    }
   ],
   "source": [
    "# Group by 'year' and calculate missing values, total values, and missing percentage\n",
    "missing_per_year = farm_df.groupby('date',).apply(lambda group: pd.DataFrame({\n",
    "    'Missing Values': group.isna().sum(),\n",
    "    'Total Values': len(group),\n",
    "    'Missing Percentage': (group.isna().sum() / len(group) * 100).round(2)\n",
    "}))\n",
    "\n",
    "print(missing_per_year)\n"
   ]
  },
  {
   "cell_type": "code",
   "execution_count": 10,
   "metadata": {},
   "outputs": [
    {
     "name": "stdout",
     "output_type": "stream",
     "text": [
      "year\n",
      "1979     57\n",
      "1980    366\n",
      "1981    365\n",
      "1982    365\n",
      "1983    365\n",
      "1984    366\n",
      "1985    365\n",
      "1986    365\n",
      "1987    365\n",
      "1988    366\n",
      "1989    365\n",
      "1990    365\n",
      "1991    365\n",
      "1992    366\n",
      "1993    365\n",
      "1994    365\n",
      "1995    365\n",
      "1996    366\n",
      "1997    365\n",
      "1998    365\n",
      "1999    365\n",
      "2000    366\n",
      "2001    365\n",
      "2002    365\n",
      "2003    365\n",
      "2004    366\n",
      "2005    365\n",
      "2006    364\n",
      "2007    365\n",
      "2008    366\n",
      "2009    365\n",
      "2010    365\n",
      "2011    365\n",
      "2012    366\n",
      "2013    365\n",
      "2014    365\n",
      "2015    365\n",
      "2016    366\n",
      "2017    365\n",
      "2018    365\n",
      "2019    365\n",
      "2020    366\n",
      "2021    365\n",
      "2022    365\n",
      "2023    256\n",
      "Name: date, dtype: int64\n"
     ]
    }
   ],
   "source": [
    "unique_dates_per_year = farm_df.groupby('year')['date'].nunique()\n",
    "\n",
    "print(unique_dates_per_year)"
   ]
  }
 ],
 "metadata": {
  "kernelspec": {
   "display_name": "Python 3",
   "language": "python",
   "name": "python3"
  },
  "language_info": {
   "codemirror_mode": {
    "name": "ipython",
    "version": 3
   },
   "file_extension": ".py",
   "mimetype": "text/x-python",
   "name": "python",
   "nbconvert_exporter": "python",
   "pygments_lexer": "ipython3",
   "version": "3.12.9"
  }
 },
 "nbformat": 4,
 "nbformat_minor": 5
}
