{
 "cells": [
  {
   "cell_type": "code",
   "execution_count": 8,
   "metadata": {},
   "outputs": [
    {
     "name": "stdout",
     "output_type": "stream",
     "text": [
      "date\n",
      "1979-11-05    True\n",
      "1979-11-06    True\n",
      "1979-11-07    True\n",
      "1979-11-08    True\n",
      "1979-11-12    True\n",
      "              ... \n",
      "2023-08-09    True\n",
      "2023-08-10    True\n",
      "2023-08-14    True\n",
      "2023-08-15    True\n",
      "2023-09-13    True\n",
      "Length: 4293, dtype: bool\n",
      "JAAR\n",
      "1979      9\n",
      "1980     83\n",
      "1981     95\n",
      "1982     83\n",
      "1983    111\n",
      "1984    149\n",
      "1985    142\n",
      "1986    139\n",
      "1987    132\n",
      "1988    141\n",
      "1989    155\n",
      "1990    174\n",
      "1991    132\n",
      "1992    134\n",
      "1993    133\n",
      "1994    125\n",
      "1995    156\n",
      "1996    130\n",
      "1997    108\n",
      "1998    117\n",
      "1999     81\n",
      "2000     98\n",
      "2001    106\n",
      "2002     64\n",
      "2003     62\n",
      "2004     47\n",
      "2005     72\n",
      "2006     60\n",
      "2007     65\n",
      "2008     61\n",
      "2009     59\n",
      "2010     81\n",
      "2011     38\n",
      "2012     58\n",
      "2013    104\n",
      "2014    109\n",
      "2015     80\n",
      "2016     70\n",
      "2017    106\n",
      "2018     86\n",
      "2019     59\n",
      "2020     69\n",
      "2021     67\n",
      "2022     74\n",
      "2023     69\n",
      "Name: date, dtype: int64\n"
     ]
    },
    {
     "name": "stderr",
     "output_type": "stream",
     "text": [
      "C:\\Users\\markh\\AppData\\Local\\Temp\\ipykernel_22712\\2795869659.py:4: DtypeWarning: Columns (41,56) have mixed types. Specify dtype option on import or set low_memory=False.\n",
      "  df = pd.read_csv('LMG_data_NIR_2024.csv', delimiter=';', on_bad_lines='skip')\n"
     ]
    }
   ],
   "source": [
    "import pandas as pd\n",
    "\n",
    "# Read the CSV file\n",
    "df = pd.read_csv('LMG_data_NIR_2024.csv', delimiter=';', on_bad_lines='skip')\n",
    "\n",
    "# Add a column with the date\n",
    "df['date'] = pd.to_datetime(df[['JAAR', 'MAAND', 'DAG']].rename(columns={'JAAR': 'year', 'MAAND': 'month', 'DAG': 'day'}))\n",
    "\n",
    "# Check if for the same date there are multiple values\n",
    "multiple_values_per_date = df.groupby('date').size() > 1\n",
    "\n",
    "print(multiple_values_per_date)\n",
    "\n",
    "unique_dates_per_year = df.groupby('JAAR')['date'].nunique()\n",
    "\n",
    "print(unique_dates_per_year)\n",
    "\n"
   ]
  }
 ],
 "metadata": {
  "kernelspec": {
   "display_name": "Python 3",
   "language": "python",
   "name": "python3"
  },
  "language_info": {
   "codemirror_mode": {
    "name": "ipython",
    "version": 3
   },
   "file_extension": ".py",
   "mimetype": "text/x-python",
   "name": "python",
   "nbconvert_exporter": "python",
   "pygments_lexer": "ipython3",
   "version": "3.12.9"
  }
 },
 "nbformat": 4,
 "nbformat_minor": 5
}
